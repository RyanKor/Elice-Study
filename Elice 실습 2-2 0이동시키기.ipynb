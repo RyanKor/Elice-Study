{
 "cells": [
  {
   "cell_type": "code",
   "execution_count": 1,
   "metadata": {},
   "outputs": [
    {
     "name": "stdout",
     "output_type": "stream",
     "text": [
      "[0, 0, 0, 0, 0, 0, 4, 5, 8, 34, 37, 50]\n"
     ]
    }
   ],
   "source": [
    "def moveZerosToEnd(nums):\n",
    "    curr = 0 #nums의 커서 역할. 실습 2-1에서도 보여줬던 배열 초기화와 같이 많은 알고리즘에서 특성 변수를 초기화 시켜놓으면 문제를 푸는데\n",
    "            # 많은 도움이 된다\n",
    "    for i in range(len(nums)):\n",
    "        if nums[i] != 0:\n",
    "            nums[curr] = nums[i]\n",
    "            nums[i] = 0\n",
    "            # nums[i] = 0\n",
    "            curr += 1 \n",
    "#     return nums\n",
    "#         if nums[i] == 0:\n",
    "#             print('if문 통과')\n",
    "#             nums.pop(i)\n",
    "#             nums.append(0)\n",
    "#             print(nums)\n",
    "#         else :\n",
    "#             print('if문을 통과하지 못함')\n",
    "#             print(nums)\n",
    "\n",
    "            \n",
    "\n",
    "def main():\n",
    "    print(moveZerosToEnd([0, 8, 0, 37, 4, 5, 0, 50, 0, 34, 0, 0]))\n",
    "    # print(moveZerosToEnd([0, 8, 0, 37]))\n",
    "\n",
    " \n",
    "if __name__ == \"__main__\":\n",
    "    main()"
   ]
  },
  {
   "cell_type": "code",
   "execution_count": null,
   "metadata": {},
   "outputs": [],
   "source": []
  }
 ],
 "metadata": {
  "kernelspec": {
   "display_name": "Python 3",
   "language": "python",
   "name": "python3"
  },
  "language_info": {
   "codemirror_mode": {
    "name": "ipython",
    "version": 3
   },
   "file_extension": ".py",
   "mimetype": "text/x-python",
   "name": "python",
   "nbconvert_exporter": "python",
   "pygments_lexer": "ipython3",
   "version": "3.6.5"
  }
 },
 "nbformat": 4,
 "nbformat_minor": 2
}
