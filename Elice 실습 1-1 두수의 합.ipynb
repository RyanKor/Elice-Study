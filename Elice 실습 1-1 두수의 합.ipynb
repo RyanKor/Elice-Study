{
 "cells": [
  {
   "cell_type": "code",
   "execution_count": 3,
   "metadata": {},
   "outputs": [
    {
     "name": "stdout",
     "output_type": "stream",
     "text": [
      "(2, 37)\n"
     ]
    }
   ],
   "source": [
    "def twoSum(nums, target):\n",
    "# for i in range(len(nums)):\n",
    "#     for j in range(1,len(nums)-i):\n",
    "#         temp = nums[i]+nums[i+j]\n",
    "#         if target == temp:\n",
    "#             return nums[i],nums[i+j]\n",
    " \n",
    "#     for i in nums:\n",
    "#         if target- i in nums:\n",
    "#             return i,target-i\n",
    "    nums.sort()\n",
    "    i,j = 0, len(nums)-1\n",
    "    \n",
    "    while i<j:\n",
    "        SUMS = nums[i] + nums[j]\n",
    "        if SUMS==target:\n",
    "            return nums[i], nums[j]\n",
    "        elif SUMS>target: #j와 i 값을 줄여나가고, 확장해 나가야 while 문장이 종료될 수 있다.\n",
    "            j -= 1\n",
    "        else:\n",
    "            i += 1\n",
    "    return false\n",
    "\n",
    "\n",
    "def main():\n",
    "    print(twoSum([2, 8, 19, 37, 4, 5], 39))\n",
    "\n",
    "if __name__ == \"__main__\":\n",
    "    main()"
   ]
  },
  {
   "cell_type": "code",
   "execution_count": null,
   "metadata": {},
   "outputs": [],
   "source": []
  }
 ],
 "metadata": {
  "kernelspec": {
   "display_name": "Python 3",
   "language": "python",
   "name": "python3"
  },
  "language_info": {
   "codemirror_mode": {
    "name": "ipython",
    "version": 3
   },
   "file_extension": ".py",
   "mimetype": "text/x-python",
   "name": "python",
   "nbconvert_exporter": "python",
   "pygments_lexer": "ipython3",
   "version": "3.6.5"
  }
 },
 "nbformat": 4,
 "nbformat_minor": 2
}
