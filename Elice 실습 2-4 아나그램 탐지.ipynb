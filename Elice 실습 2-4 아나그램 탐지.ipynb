{
 "cells": [
  {
   "cell_type": "code",
   "execution_count": 1,
   "metadata": {},
   "outputs": [
    {
     "name": "stdout",
     "output_type": "stream",
     "text": [
      "True\n",
      "False\n"
     ]
    }
   ],
   "source": [
    "def isAnagram(str1, str2):\n",
    "#     str1 =','.join(str1)\n",
    "#     str1 = str1.split(',')\n",
    "    \n",
    "#     str2 = ','.join(str2)\n",
    "#     str2 = str2.split(',')\n",
    "\n",
    "#     for i in range(len(str1)):\n",
    "#         str1[i] = ord(str1[i])\n",
    "    \n",
    "#     for i in range(len(str2)):\n",
    "#         str2[i] = ord(str2[i])\n",
    "    \n",
    "#     str1.sort()\n",
    "#     str2.sort()\n",
    "\n",
    "#     if str1 == str2:\n",
    "#         return True\n",
    "#     else : \n",
    "#         return False\n",
    "    \n",
    "    string1List = list(str1) #문자에는 각각 아스키 코드 값이 존재하기 때문에 list로 구현 가능하다.\n",
    "    string2List = list(str2)\n",
    "    string1List.sort()\n",
    "    string2List.sort()\n",
    "    return (string1List == string2List)\n",
    "\n",
    "def main():\n",
    "    print(isAnagram('iamlordvoldemort', 'tommarvoloriddle')) # should return True\n",
    "    print(isAnagram('cat', 'cap')) #should return False\n",
    "    \n",
    "\n",
    "if __name__ == \"__main__\":\n",
    "    main()\n"
   ]
  },
  {
   "cell_type": "code",
   "execution_count": null,
   "metadata": {},
   "outputs": [],
   "source": []
  }
 ],
 "metadata": {
  "kernelspec": {
   "display_name": "Python 3",
   "language": "python",
   "name": "python3"
  },
  "language_info": {
   "codemirror_mode": {
    "name": "ipython",
    "version": 3
   },
   "file_extension": ".py",
   "mimetype": "text/x-python",
   "name": "python",
   "nbconvert_exporter": "python",
   "pygments_lexer": "ipython3",
   "version": "3.6.5"
  }
 },
 "nbformat": 4,
 "nbformat_minor": 2
}
