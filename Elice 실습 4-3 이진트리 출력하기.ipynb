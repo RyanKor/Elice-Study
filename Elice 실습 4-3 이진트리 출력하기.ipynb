{
 "cells": [
  {
   "cell_type": "code",
   "execution_count": 1,
   "metadata": {},
   "outputs": [
    {
     "name": "stdout",
     "output_type": "stream",
     "text": [
      "[]\n"
     ]
    }
   ],
   "source": [
    "import queue\n",
    "\n",
    "#====이 문제를 풀기 위해 필요한 클래스와 함수들입니다. 따로 수정 할 필요는 없습니다.\n",
    "class Node():\n",
    "    def __init__(self, val):\n",
    "        self.val = val\n",
    "        self.left = None\n",
    "        self.right = None\n",
    "\n",
    "def listToCompleteBinaryTree(lst):\n",
    "    def helper(index):\n",
    "        if index >= len(lst):\n",
    "            return None\n",
    "        node = Node(lst[index])\n",
    "        node.left = helper(index * 2 + 1)\n",
    "        node.right = helper(index * 2 + 2)\n",
    "        return node\n",
    "    return helper(0)\n",
    "\n",
    "def printTree(node):\n",
    "    all_lines = []\n",
    "  \n",
    "    return all_lines\n",
    "\n",
    "def main():\n",
    "    node = listToCompleteBinaryTree([1,2,3,4,5,6,7])\n",
    "    print(printTree(node)) # [[1], [2, 3], [4, 5, 6, 7]]\n",
    "\n",
    "if __name__ == \"__main__\":\n",
    "    main()\n",
    "    "
   ]
  },
  {
   "cell_type": "code",
   "execution_count": null,
   "metadata": {},
   "outputs": [],
   "source": []
  }
 ],
 "metadata": {
  "kernelspec": {
   "display_name": "Python 3",
   "language": "python",
   "name": "python3"
  },
  "language_info": {
   "codemirror_mode": {
    "name": "ipython",
    "version": 3
   },
   "file_extension": ".py",
   "mimetype": "text/x-python",
   "name": "python",
   "nbconvert_exporter": "python",
   "pygments_lexer": "ipython3",
   "version": "3.6.5"
  }
 },
 "nbformat": 4,
 "nbformat_minor": 2
}
