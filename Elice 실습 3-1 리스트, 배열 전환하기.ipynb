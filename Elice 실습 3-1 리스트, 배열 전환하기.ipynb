{
 "cells": [
  {
   "cell_type": "code",
   "execution_count": 3,
   "metadata": {},
   "outputs": [
    {
     "name": "stdout",
     "output_type": "stream",
     "text": [
      "3->4->8\n",
      "3\n",
      "8\n",
      "2->8->19->37->4->5\n",
      "[2, 8, 19, 37, 4]\n"
     ]
    }
   ],
   "source": [
    "# 연결 리스트의 노드. 단일 연결 리스트의 경우입니다.\n",
    "class Node:\n",
    "    def __init__(self, val):\n",
    "        self.val = val #self는 Node라는 객체를 지칭하며 객체의 val 위치에 val값을 저장한다는 의미.\n",
    "        self.next = None #노드의 다음에는 값이 지정되어 있지 않음. 초기화.\n",
    "        \n",
    "    def __str__(self):\n",
    "        return str(self.val)\n",
    "\n",
    "# 연결 리스트 클래스. head 와 tail을 가지고 있으며, 가장 뒤에 새로운 노드를 추가하는 addToEnd 함수가 있습니다.\n",
    "class LinkedList:\n",
    "    def __init__(self, head):\n",
    "        self.head = head\n",
    "        self.tail = head\n",
    "    \n",
    "    def addToEnd(self, node):\n",
    "        self.tail.next = node\n",
    "        self.tail = node #Tail 값은 이 값을 지정하기 전까지 head에 있었고 지금은 tail 커서를 이동시키기 위한 값\n",
    "        \n",
    "    def __str__(self):\n",
    "        node = self.head\n",
    "        toPrint = []\n",
    "        while node:\n",
    "            toPrint.append(str(node.val))\n",
    "            node = node.next\n",
    "        return \"->\".join(toPrint)\n",
    "\n",
    "####################################################################################################################################\n",
    "\n",
    "# 주어진 연결 리스트 ll을 배열로 변환해 봅시다.\n",
    "# 이때 연결 리스트 LinkedList의 객체가 입력으로 주어진다고 가정합니다.\n",
    "def toArray(llNode): #인자로 주어질 값이 리스트로 주어진다\n",
    "    toA = [] #리스트 값을 받을 변수 하나 설정. 이 배열에 리스트의 값들을 어떻게 넣을 것인가?\n",
    "    lL = llNode.head\n",
    "    while lL != llNode.tail:\n",
    "        toA.append(lL.val)\n",
    "        lL = lL.next\n",
    "    return toA\n",
    "\n",
    "\n",
    "# 주어진 배열을 연결 리스트로 변환 해 봅시다.\n",
    "def toLinkedList(lst):#인자로 주어질 값이 배열로 주어진다.\n",
    "    a = LinkedList(Node(lst[0]))\n",
    "    for i in lst[1:]:\n",
    "        a.addToEnd(Node(i))\n",
    "    return a\n",
    "\n",
    "def example():\n",
    "    ## Linkedlist 클래스와 Node 클래스를 사용하는 예시입니다.\n",
    "    ll = LinkedList(Node(3))\n",
    "    ll.addToEnd(Node(4))\n",
    "    ll.addToEnd(Node(8))\n",
    "    print(ll)\n",
    "    print(ll.head)\n",
    "    print(ll.tail)\n",
    "\n",
    "def main():\n",
    "    example()\n",
    "    nums = [2,8,19,37,4,5] #여기서 주어진 값은 배열로 표현됨.\n",
    "    ll = toLinkedList(nums)\n",
    "    print(ll)\n",
    "    lst = toArray(ll)\n",
    "    print(lst)\n",
    "\n",
    "if __name__ == \"__main__\":\n",
    "    main()\n"
   ]
  },
  {
   "cell_type": "code",
   "execution_count": null,
   "metadata": {},
   "outputs": [],
   "source": []
  },
  {
   "cell_type": "code",
   "execution_count": null,
   "metadata": {},
   "outputs": [],
   "source": []
  }
 ],
 "metadata": {
  "kernelspec": {
   "display_name": "Python 3",
   "language": "python",
   "name": "python3"
  },
  "language_info": {
   "codemirror_mode": {
    "name": "ipython",
    "version": 3
   },
   "file_extension": ".py",
   "mimetype": "text/x-python",
   "name": "python",
   "nbconvert_exporter": "python",
   "pygments_lexer": "ipython3",
   "version": "3.6.5"
  }
 },
 "nbformat": 4,
 "nbformat_minor": 2
}
