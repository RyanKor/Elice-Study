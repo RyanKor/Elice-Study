{
 "cells": [
  {
   "cell_type": "code",
   "execution_count": 3,
   "metadata": {},
   "outputs": [
    {
     "name": "stdout",
     "output_type": "stream",
     "text": [
      "[1, 4, 3, 2, 5]\n",
      "[6, 7, 8, 9, 1, 2, 3, 4, 5]\n"
     ]
    }
   ],
   "source": [
    "def rotateArray(nums, k):\n",
    "    \n",
    "    #[1,2,3,4,5,6,7,8,9] -> [6,7,8,9,1,2,3,4,5]\n",
    "    #[6,7,8,9] + [1,2,3,4,5] ->[5:] + [:5] \n",
    "    #[len(nums)-k:] + [:len(nums)-k]\n",
    "    \n",
    "#     temp =[]\n",
    "#     newArray =[]\n",
    "#     for i in range(len(nums)-k,len(nums)):\n",
    "#         temp.append(nums[i])\n",
    "#     # print(temp)\n",
    "\n",
    "#     for j in range (len(nums)-k):\n",
    "#         temp.append(nums[j])\n",
    "#     # print(temp)\n",
    "\n",
    "#     return temp\n",
    "    return nums[len(nums)-k:] + nums[:len(nums)-k]\n",
    "\n",
    "# 다음 함수는 추가적인 공간 사용 없이 배열의 일부를 뒤집어 주는 함수입니다.\n",
    "# 예를 들어, nums = [1,2,3,4,5]\n",
    "# partialReverse(nums, 1, 3)\n",
    "# 을 실행 할 경우, nums = [1, 4, 3, 2, 5] 가 됩니다.\n",
    "# 필요하다면 사용하세요.\n",
    "def partialReverse(nums, start, end):\n",
    "    for i in range(0, int((end-start)/2) + 1):\n",
    "        temp = nums[start + i]\n",
    "        nums[start+i] = nums[end - i]\n",
    "        nums[end -i] = temp\n",
    "\n",
    "\n",
    "def main():\n",
    "    nums = [1,2,3,4,5]\n",
    "    partialReverse(nums, 1, 3) # [1, 4, 3, 2, 5] 를 반환합니다.\n",
    "    print(nums)\n",
    "    print(rotateArray([1,2,3,4,5,6,7,8,9], 4)) # [6,7,8,9,1,2,3,4,5] 를 반환해야 합니다.\n",
    "    \n",
    "\n",
    "if __name__ == \"__main__\":\n",
    "    main()"
   ]
  },
  {
   "cell_type": "code",
   "execution_count": null,
   "metadata": {},
   "outputs": [],
   "source": []
  }
 ],
 "metadata": {
  "kernelspec": {
   "display_name": "Python 3",
   "language": "python",
   "name": "python3"
  },
  "language_info": {
   "codemirror_mode": {
    "name": "ipython",
    "version": 3
   },
   "file_extension": ".py",
   "mimetype": "text/x-python",
   "name": "python",
   "nbconvert_exporter": "python",
   "pygments_lexer": "ipython3",
   "version": "3.6.5"
  }
 },
 "nbformat": 4,
 "nbformat_minor": 2
}
