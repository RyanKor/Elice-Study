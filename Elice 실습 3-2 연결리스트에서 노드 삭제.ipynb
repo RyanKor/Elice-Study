{
 "cells": [
  {
   "cell_type": "code",
   "execution_count": 7,
   "metadata": {},
   "outputs": [
    {
     "name": "stdout",
     "output_type": "stream",
     "text": [
      "2->8->19->37->4->5\n",
      "2->8->19->37->4->5\n"
     ]
    },
    {
     "ename": "AttributeError",
     "evalue": "'NoneType' object has no attribute 'val'",
     "output_type": "error",
     "traceback": [
      "\u001b[1;31m---------------------------------------------------------------------------\u001b[0m",
      "\u001b[1;31mAttributeError\u001b[0m                            Traceback (most recent call last)",
      "\u001b[1;32m<ipython-input-7-ea8b6c92960e>\u001b[0m in \u001b[0;36m<module>\u001b[1;34m()\u001b[0m\n\u001b[0;32m     55\u001b[0m \u001b[1;33m\u001b[0m\u001b[0m\n\u001b[0;32m     56\u001b[0m \u001b[1;32mif\u001b[0m \u001b[0m__name__\u001b[0m \u001b[1;33m==\u001b[0m \u001b[1;34m\"__main__\"\u001b[0m\u001b[1;33m:\u001b[0m\u001b[1;33m\u001b[0m\u001b[0m\n\u001b[1;32m---> 57\u001b[1;33m     \u001b[0mmain\u001b[0m\u001b[1;33m(\u001b[0m\u001b[1;33m)\u001b[0m\u001b[1;33m\u001b[0m\u001b[0m\n\u001b[0m",
      "\u001b[1;32m<ipython-input-7-ea8b6c92960e>\u001b[0m in \u001b[0;36mmain\u001b[1;34m()\u001b[0m\n\u001b[0;32m     51\u001b[0m     \u001b[0mdeleteNode\u001b[0m\u001b[1;33m(\u001b[0m\u001b[0mll\u001b[0m\u001b[1;33m,\u001b[0m \u001b[1;36m19\u001b[0m\u001b[1;33m)\u001b[0m\u001b[1;33m\u001b[0m\u001b[0m\n\u001b[0;32m     52\u001b[0m     \u001b[0mprint\u001b[0m\u001b[1;33m(\u001b[0m\u001b[0mll\u001b[0m\u001b[1;33m)\u001b[0m \u001b[1;31m# 19를 삭제하였으므로, 2->8->37->4->5\u001b[0m\u001b[1;33m\u001b[0m\u001b[0m\n\u001b[1;32m---> 53\u001b[1;33m     \u001b[0mdeleteNode\u001b[0m\u001b[1;33m(\u001b[0m\u001b[0mll\u001b[0m\u001b[1;33m,\u001b[0m \u001b[1;36m3\u001b[0m\u001b[1;33m)\u001b[0m\u001b[1;33m\u001b[0m\u001b[0m\n\u001b[0m\u001b[0;32m     54\u001b[0m     \u001b[0mprint\u001b[0m\u001b[1;33m(\u001b[0m\u001b[0mll\u001b[0m\u001b[1;33m)\u001b[0m \u001b[1;31m# 3이 없으므로, 2->8->37->4->5 // 탐색과 동시에 삭제가 이뤄지는 함수를 작성해야된다.\u001b[0m\u001b[1;33m\u001b[0m\u001b[0m\n\u001b[0;32m     55\u001b[0m \u001b[1;33m\u001b[0m\u001b[0m\n",
      "\u001b[1;32m<ipython-input-7-ea8b6c92960e>\u001b[0m in \u001b[0;36mdeleteNode\u001b[1;34m(ll, valToDelete)\u001b[0m\n\u001b[0;32m     41\u001b[0m     \u001b[1;32mwhile\u001b[0m \u001b[0ma\u001b[0m\u001b[1;33m.\u001b[0m\u001b[0mval\u001b[0m \u001b[1;33m!=\u001b[0m \u001b[0mvalToDelete\u001b[0m\u001b[1;33m:\u001b[0m\u001b[1;33m\u001b[0m\u001b[0m\n\u001b[0;32m     42\u001b[0m         \u001b[0ma\u001b[0m \u001b[1;33m=\u001b[0m \u001b[0ma\u001b[0m\u001b[1;33m.\u001b[0m\u001b[0mnext\u001b[0m\u001b[1;33m\u001b[0m\u001b[0m\n\u001b[1;32m---> 43\u001b[1;33m         \u001b[1;32mif\u001b[0m\u001b[1;33m(\u001b[0m\u001b[0ma\u001b[0m\u001b[1;33m.\u001b[0m\u001b[0mval\u001b[0m \u001b[1;33m==\u001b[0m \u001b[0mvalToDelete\u001b[0m\u001b[1;33m)\u001b[0m\u001b[1;33m:\u001b[0m\u001b[1;33m\u001b[0m\u001b[0m\n\u001b[0m\u001b[0;32m     44\u001b[0m             \u001b[0ma\u001b[0m \u001b[1;33m=\u001b[0m \u001b[0mb\u001b[0m\u001b[1;33m\u001b[0m\u001b[0m\n\u001b[0;32m     45\u001b[0m             \u001b[1;32mreturn\u001b[0m \u001b[0mll\u001b[0m\u001b[1;33m\u001b[0m\u001b[0m\n",
      "\u001b[1;31mAttributeError\u001b[0m: 'NoneType' object has no attribute 'val'"
     ]
    }
   ],
   "source": [
    "# 연결 리스트의 노드. 단일 연결 리스트의 경우입니다.\n",
    "class Node:\n",
    "    def __init__(self, val):\n",
    "        self.val = val\n",
    "        self.next = None\n",
    "        \n",
    "    def __str__(self):\n",
    "        return str(self.val)\n",
    "\n",
    "# 연결 리스트 클래스. head 와 tail을 가지고 있으며, 가장 뒤에 새로운 노드를 추가하는 addToEnd 함수가 있습니다.\n",
    "class LinkedList:\n",
    "    def __init__(self, head):\n",
    "        self.head = head\n",
    "        self.tail = head\n",
    "    \n",
    "    def addToEnd(self, node):\n",
    "        self.tail.next = node\n",
    "        self.tail = node\n",
    "        \n",
    "    def __str__(self):\n",
    "        node = self.head\n",
    "        toPrint = []\n",
    "        while node:\n",
    "            toPrint.append(str(node.val))\n",
    "            node = node.next\n",
    "        return \"->\".join(toPrint)\n",
    "\n",
    "# 주어진 배열을 linkedlist로 변환해서 돌려줍니다. 실습 3-1을 참조하세요\n",
    "def toLinkedList(lst):\n",
    "    ll = LinkedList(Node(lst[0]))\n",
    "    for i in range(1, len(lst)):\n",
    "        ll.addToEnd(Node(lst[i]))\n",
    "    \n",
    "    return ll\n",
    "    \n",
    "####################################################################################################################################\n",
    "\n",
    "def deleteNode(ll, valToDelete): #ll은 리스트, valToDelete는 노드의 value 값\n",
    "    a = ll.head\n",
    "    b = a.next\n",
    "    while a.val != valToDelete:\n",
    "        a = a.next\n",
    "        if(a.val == valToDelete):\n",
    "            \n",
    "            return ll        \n",
    "\n",
    "def main():\n",
    "    nums = [2,8,19,37,4,5]\n",
    "    ll = toLinkedList(nums) #ll은 배열을 리스트로 만들어 놓은 값\n",
    "    print(ll)\n",
    "    deleteNode(ll, 19)\n",
    "    print(ll) # 19를 삭제하였으므로, 2->8->37->4->5\n",
    "    deleteNode(ll, 3)\n",
    "    print(ll) # 3이 없으므로, 2->8->37->4->5 // 탐색과 동시에 삭제가 이뤄지는 함수를 작성해야된다.\n",
    "\n",
    "if __name__ == \"__main__\":\n",
    "    main()"
   ]
  },
  {
   "cell_type": "code",
   "execution_count": null,
   "metadata": {},
   "outputs": [],
   "source": []
  }
 ],
 "metadata": {
  "kernelspec": {
   "display_name": "Python 3",
   "language": "python",
   "name": "python3"
  },
  "language_info": {
   "codemirror_mode": {
    "name": "ipython",
    "version": 3
   },
   "file_extension": ".py",
   "mimetype": "text/x-python",
   "name": "python",
   "nbconvert_exporter": "python",
   "pygments_lexer": "ipython3",
   "version": "3.6.5"
  }
 },
 "nbformat": 4,
 "nbformat_minor": 2
}
