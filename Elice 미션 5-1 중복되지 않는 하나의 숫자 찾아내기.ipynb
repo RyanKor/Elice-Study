{
 "cells": [
  {
   "cell_type": "code",
   "execution_count": 25,
   "metadata": {},
   "outputs": [
    {
     "ename": "SyntaxError",
     "evalue": "invalid syntax (<ipython-input-25-0696a9a3b2ae>, line 8)",
     "output_type": "error",
     "traceback": [
      "\u001b[1;36m  File \u001b[1;32m\"<ipython-input-25-0696a9a3b2ae>\"\u001b[1;36m, line \u001b[1;32m8\u001b[0m\n\u001b[1;33m    return temp = nums[i]\u001b[0m\n\u001b[1;37m                ^\u001b[0m\n\u001b[1;31mSyntaxError\u001b[0m\u001b[1;31m:\u001b[0m invalid syntax\n"
     ]
    }
   ],
   "source": [
    "def findSolo(nums):\n",
    "    nums.sort()\n",
    "    temp = []\n",
    "    for i in range (len(nums)):\n",
    "        if (nums[i] == nums[i+1]) and (nums[i+1] == nums[i+2]):\n",
    "            nums.remove(nums[i])\n",
    "        else:\n",
    "            return temp = nums[i]\n",
    "\n",
    "def main():\n",
    "    print(findSolo([1, 5, 3, 1, 2, 6, 4, 5, 2, 6, 3]))\n",
    "\n",
    "if __name__ == \"__main__\":\n",
    "    main()"
   ]
  },
  {
   "cell_type": "code",
   "execution_count": null,
   "metadata": {},
   "outputs": [],
   "source": []
  },
  {
   "cell_type": "code",
   "execution_count": null,
   "metadata": {},
   "outputs": [],
   "source": []
  }
 ],
 "metadata": {
  "kernelspec": {
   "display_name": "Python 3",
   "language": "python",
   "name": "python3"
  },
  "language_info": {
   "codemirror_mode": {
    "name": "ipython",
    "version": 3
   },
   "file_extension": ".py",
   "mimetype": "text/x-python",
   "name": "python",
   "nbconvert_exporter": "python",
   "pygments_lexer": "ipython3",
   "version": "3.6.5"
  }
 },
 "nbformat": 4,
 "nbformat_minor": 2
}
