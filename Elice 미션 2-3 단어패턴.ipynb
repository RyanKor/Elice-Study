{
 "cells": [
  {
   "cell_type": "code",
   "execution_count": 11,
   "metadata": {},
   "outputs": [
    {
     "name": "stdout",
     "output_type": "stream",
     "text": [
      "True\n",
      "False\n"
     ]
    }
   ],
   "source": [
    "def wordPattern(pattern, strList):\n",
    "    word1=list(pattern)\n",
    "    strList[0] = word1[0] \n",
    "    strList[1] = word1[1] \n",
    "    strList[2] = word1[2]\n",
    "    strList[3] = word1[3]\n",
    "    if (word1[0] == word1[1]) and (word1[2] ==word1[3]):\n",
    "        return True\n",
    "    else:\n",
    "        return False\n",
    "\n",
    "\n",
    "def main():\n",
    "    print(wordPattern(\"aabb\", [\"elice\", \"elice\", \"alice\", \"alice\"])) # should return True\n",
    "    print(wordPattern(\"abab\", [\"elice\", \"elice\", \"alice\", \"alice\"])) # should return False\n",
    "    \n",
    "\n",
    "if __name__ == \"__main__\":\n",
    "    main()"
   ]
  },
  {
   "cell_type": "code",
   "execution_count": null,
   "metadata": {},
   "outputs": [],
   "source": []
  }
 ],
 "metadata": {
  "kernelspec": {
   "display_name": "Python 3",
   "language": "python",
   "name": "python3"
  },
  "language_info": {
   "codemirror_mode": {
    "name": "ipython",
    "version": 3
   },
   "file_extension": ".py",
   "mimetype": "text/x-python",
   "name": "python",
   "nbconvert_exporter": "python",
   "pygments_lexer": "ipython3",
   "version": "3.6.5"
  }
 },
 "nbformat": 4,
 "nbformat_minor": 2
}
