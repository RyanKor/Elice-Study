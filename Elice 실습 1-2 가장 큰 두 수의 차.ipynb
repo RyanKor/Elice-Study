{
 "cells": [
  {
   "cell_type": "code",
   "execution_count": 5,
   "metadata": {},
   "outputs": [
    {
     "name": "stdout",
     "output_type": "stream",
     "text": [
      "49\n"
     ]
    }
   ],
   "source": [
    "def maxTwoDiff(nums):\n",
    "    # nums.sort() nums 내 배열들을 정렬한다 \n",
    "    # return nums[len(nums)-1] - nums[0] 배열 내 가장 큰 수와 가장 작은 수를 뺀 값을 반환\n",
    "    # print(len(nums)) 값을 출력한다. 그러나 이 코드를 따라가면 Sort로 인해 복잡도는 O(NlogN)이다.\n",
    "#     return max(nums)-min(nums) # 그러나 max에서 min을 차감한 값을 출력하는 것은 O(N)이다.\n",
    " \n",
    "        \n",
    "# 파이썬 내 sort, max, min을 호출할 수 있다는 것을 학습했다. \n",
    "    nums.sort()\n",
    "    return nums[len(nums) - 1] - nums[0]        \n",
    "            \n",
    "    \n",
    "             \n",
    "\n",
    "def main():\n",
    "    print(maxTwoDiff([2, 8, 19, 37, 4, 5, 12, 50, 1, 34, 23])) # should return 49\n",
    "\n",
    "if __name__ == \"__main__\":\n",
    "    main()"
   ]
  },
  {
   "cell_type": "code",
   "execution_count": null,
   "metadata": {},
   "outputs": [],
   "source": []
  }
 ],
 "metadata": {
  "kernelspec": {
   "display_name": "Python 3",
   "language": "python",
   "name": "python3"
  },
  "language_info": {
   "codemirror_mode": {
    "name": "ipython",
    "version": 3
   },
   "file_extension": ".py",
   "mimetype": "text/x-python",
   "name": "python",
   "nbconvert_exporter": "python",
   "pygments_lexer": "ipython3",
   "version": "3.6.5"
  }
 },
 "nbformat": 4,
 "nbformat_minor": 2
}
