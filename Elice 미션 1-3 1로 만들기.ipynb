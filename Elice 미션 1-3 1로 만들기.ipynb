{
 "cells": [
  {
   "cell_type": "code",
   "execution_count": 9,
   "metadata": {},
   "outputs": [
    {
     "name": "stdout",
     "output_type": "stream",
     "text": [
      "1\n"
     ]
    }
   ],
   "source": [
    "def convertTo1(num):\n",
    "\n",
    "    # 이거 도대체 어떻게 푼거야?\n",
    "    dp = []\n",
    "\n",
    "    dp.append(0) # 0\n",
    "    dp.append(0) # 1\n",
    "    dp.append(1) # 2\n",
    "    dp.append(1) # 3\n",
    "\n",
    "    for i in range(4, num + 1):\n",
    "        dp.append(dp[i - 1] + 1); # 1을 빼고 최소 연산의 개수 계산\n",
    "\n",
    "        if(i % 2 == 0): # 2로 나눠진다면\n",
    "            dp[i] = min(dp[i], dp[i // 2] + 1) # 비교\n",
    "        if(i % 3 == 0): # 3으로 나눠진다면\n",
    "            dp[i] = min(dp[i], dp[i // 3] + 1) # 비교\n",
    "    return dp[num]       \n",
    "\n",
    "def main():\n",
    "    print(convertTo1(2))\n",
    "\n",
    "if __name__ == \"__main__\":\n",
    "    main()"
   ]
  },
  {
   "cell_type": "code",
   "execution_count": null,
   "metadata": {},
   "outputs": [],
   "source": []
  }
 ],
 "metadata": {
  "kernelspec": {
   "display_name": "Python 3",
   "language": "python",
   "name": "python3"
  },
  "language_info": {
   "codemirror_mode": {
    "name": "ipython",
    "version": 3
   },
   "file_extension": ".py",
   "mimetype": "text/x-python",
   "name": "python",
   "nbconvert_exporter": "python",
   "pygments_lexer": "ipython3",
   "version": "3.6.5"
  }
 },
 "nbformat": 4,
 "nbformat_minor": 2
}
