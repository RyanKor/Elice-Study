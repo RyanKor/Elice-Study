{
 "cells": [
  {
   "cell_type": "code",
   "execution_count": 1,
   "metadata": {},
   "outputs": [
    {
     "name": "stdout",
     "output_type": "stream",
     "text": [
      "고객님의 차량은 2017 년에 출고되었습니다.\n",
      "현재 속도는 0 km/h 입니다.\n",
      "변경된 속도는 200 km/h 입니다.\n",
      "바닥에 aluminum 재질의 바퀴가 떨어져 있습니다.\n"
     ]
    }
   ],
   "source": [
    "class Car:\n",
    "    def __init__(self):\n",
    "        self.speed = 0\n",
    "        self.year = 2017\n",
    "        self.wheel = Wheel(\"aluminum\")\n",
    "        self.color = 'white'\n",
    "        # 1. 여기에 새로운 오브젝트 변수, color를 추가 해 주세요.\n",
    "        # 색은 기본적으로 \"white\"로 설정되도록 해 주세요\n",
    "        \n",
    "    def speedUp(self, addSpeed):\n",
    "        self.speed += addSpeed\n",
    "    \n",
    "    def speedDown(self, downSpeed):\n",
    "        self.speed -= downSpeed\n",
    "    \n",
    "    def changeColor(self, color):\n",
    "        self.color = color\n",
    "        \n",
    "    # 2. 여기에 새로운 오브젝트 함수, speedDown을 추가해 주세요\n",
    "    # 변화시키고 싶은 속도량을 입력 받은 후, 그만큼 속도록 감소시키는 일을 하는 함수입니다.\n",
    "    \n",
    "    # 3. 여기에 새로운 함수, changeColor를 추가 해 봅시다.\n",
    "    # 변화시키고 싶은 색을 지정하면, 그 색깔로 차를 도색하는 함수입니다.    \n",
    "\n",
    "\n",
    "    def wheelChange(self, newWheelType):\n",
    "        self.wheel = Wheel(newWheelType)\n",
    "        # 4. 객체의 데이터로 다른 객체를 사용 할 수도 있습니다. \n",
    "        # Car 객체는 Wheel 객체를 변수로 가지는데요, \n",
    "        # 여기에는 새 바퀴의 색상을 입력받고(newWheelType), 이를 바탕으로 새로운 Wheel 객체를 만들어서\n",
    "        # 자동차의 wheel 데이터에 할당 하는 함수를 적어 봅시다.\n",
    "    \n",
    "\n",
    "class Wheel:\n",
    "    def __init__(self, newWheelType):\n",
    "        self.wheelType = newWheelType\n",
    "\n",
    "def main():\n",
    "    audi = Car()\n",
    "    print(\"고객님의 차량은 {} 년에 출고되었습니다.\".format(audi.year))\n",
    "    print(\"현재 속도는 {} km/h 입니다.\".format(audi.speed))\n",
    "    audi.speedUp(200)\n",
    "    print(\"변경된 속도는 {} km/h 입니다.\".format(audi.speed))\n",
    "    \n",
    "    randomWheel = Wheel(\"aluminum\")\n",
    "    print(\"바닥에 {} 재질의 바퀴가 떨어져 있습니다.\".format(randomWheel.wheelType))\n",
    "    \n",
    "if __name__ == \"__main__\":\n",
    "    main()\n"
   ]
  },
  {
   "cell_type": "code",
   "execution_count": null,
   "metadata": {},
   "outputs": [],
   "source": []
  }
 ],
 "metadata": {
  "kernelspec": {
   "display_name": "Python 3",
   "language": "python",
   "name": "python3"
  },
  "language_info": {
   "codemirror_mode": {
    "name": "ipython",
    "version": 3
   },
   "file_extension": ".py",
   "mimetype": "text/x-python",
   "name": "python",
   "nbconvert_exporter": "python",
   "pygments_lexer": "ipython3",
   "version": "3.6.5"
  }
 },
 "nbformat": 4,
 "nbformat_minor": 2
}
