{
 "cells": [
  {
   "cell_type": "code",
   "execution_count": 4,
   "metadata": {},
   "outputs": [
    {
     "name": "stdout",
     "output_type": "stream",
     "text": [
      "34\n"
     ]
    }
   ],
   "source": [
    "def thirdMax(nums):\n",
    "    # 여기서 sorting을 하면 값이 왜 출력 안되지?\n",
    "    nums.sort()\n",
    "    nums.remove(max(nums))\n",
    "    nums.remove(max(nums))\n",
    "    return max(nums)\n",
    "    # 어렵게 생각하면 어려울 수 밖에 없고, 쉽게 생각하면 쉬울 수 밖에 없는 문제다!\n",
    "    \n",
    "#     temp = []\n",
    "#     nums.sort()\n",
    "#     return nums[-3]\n",
    "\n",
    "def main():\n",
    "    print(thirdMax([2, 8, 19, 37, 4, 5, 12, 50, 1, 34, 23])) # should return 34\n",
    "\n",
    "if __name__ == \"__main__\":\n",
    "    main()\n"
   ]
  },
  {
   "cell_type": "code",
   "execution_count": null,
   "metadata": {},
   "outputs": [],
   "source": []
  }
 ],
 "metadata": {
  "kernelspec": {
   "display_name": "Python 3",
   "language": "python",
   "name": "python3"
  },
  "language_info": {
   "codemirror_mode": {
    "name": "ipython",
    "version": 3
   },
   "file_extension": ".py",
   "mimetype": "text/x-python",
   "name": "python",
   "nbconvert_exporter": "python",
   "pygments_lexer": "ipython3",
   "version": "3.6.5"
  }
 },
 "nbformat": 4,
 "nbformat_minor": 2
}
