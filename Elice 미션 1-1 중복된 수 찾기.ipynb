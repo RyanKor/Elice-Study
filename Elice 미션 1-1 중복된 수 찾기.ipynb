{
 "cells": [
  {
   "cell_type": "code",
   "execution_count": 10,
   "metadata": {},
   "outputs": [
    {
     "name": "stdout",
     "output_type": "stream",
     "text": [
      "5\n"
     ]
    }
   ],
   "source": [
    "def findDuplicate(nums):\n",
    "    nums.sort()\n",
    "    \n",
    "# 연산속도 O(N2) 인 알고리즘.   \n",
    "#     for i in nums:\n",
    "#         if nums.count(i)>=2:\n",
    "#             return nums[i]\n",
    "\n",
    "# Case 1: 가장 빠른 연산속도 알고리즘\n",
    "    for i in nums:\n",
    "        if nums[i] == nums[i+1]:\n",
    "            return nums[i+1]\n",
    "        \n",
    "\n",
    "#     for i in range(nums):\n",
    "#         if nums[i-1] == nums [i]:\n",
    "#             return nums[i]\n",
    "\n",
    "\n",
    "# Case 2: 이중 for문을 돌리면 \n",
    "#     for i in range(len(nums) - 1):\n",
    "#         for j in range(i+1, len(nums)):\n",
    "#             if nums[i] == nums[j]:\n",
    "#                 return nums[j]\n",
    "        \n",
    "\n",
    "def main():\n",
    "    print(findDuplicate([1, 5, 2, 4, 5, 6, 3]))\n",
    "\n",
    "if __name__ == \"__main__\":\n",
    "    main()"
   ]
  },
  {
   "cell_type": "code",
   "execution_count": null,
   "metadata": {},
   "outputs": [],
   "source": []
  },
  {
   "cell_type": "code",
   "execution_count": null,
   "metadata": {},
   "outputs": [],
   "source": []
  }
 ],
 "metadata": {
  "kernelspec": {
   "display_name": "Python 3",
   "language": "python",
   "name": "python3"
  },
  "language_info": {
   "codemirror_mode": {
    "name": "ipython",
    "version": 3
   },
   "file_extension": ".py",
   "mimetype": "text/x-python",
   "name": "python",
   "nbconvert_exporter": "python",
   "pygments_lexer": "ipython3",
   "version": "3.6.5"
  }
 },
 "nbformat": 4,
 "nbformat_minor": 2
}
