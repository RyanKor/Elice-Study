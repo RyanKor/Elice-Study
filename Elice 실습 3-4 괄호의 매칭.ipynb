{
 "cells": [
  {
   "cell_type": "code",
   "execution_count": 22,
   "metadata": {},
   "outputs": [
    {
     "name": "stdout",
     "output_type": "stream",
     "text": [
      "({()}) None\n",
      "[]<>{} None\n",
      ")(<] None\n",
      "<(>) None\n"
     ]
    }
   ],
   "source": [
    "def isParenthesisValid(st):\n",
    "    stack = []\n",
    "    stack.append(st)\n",
    "#     a = list(st)\n",
    "#     stack.append(a)\n",
    "#     while st:\n",
    "    for ch in stack:\n",
    "        if ch == ')':\n",
    "            stack.pop()\n",
    "            \n",
    "\n",
    "        \n",
    "        \n",
    "    \n",
    "        \n",
    "\n",
    "def main():\n",
    "    examples = [\"({()})\", \"[]<>{}\", \")(\" \"<]\", \"<(>)\"]\n",
    "    for example in examples:\n",
    "        print(example, isParenthesisValid(example))\n",
    "\n",
    "    \n",
    "if __name__ == \"__main__\":\n",
    "    main()"
   ]
  },
  {
   "cell_type": "code",
   "execution_count": null,
   "metadata": {},
   "outputs": [],
   "source": []
  }
 ],
 "metadata": {
  "kernelspec": {
   "display_name": "Python 3",
   "language": "python",
   "name": "python3"
  },
  "language_info": {
   "codemirror_mode": {
    "name": "ipython",
    "version": 3
   },
   "file_extension": ".py",
   "mimetype": "text/x-python",
   "name": "python",
   "nbconvert_exporter": "python",
   "pygments_lexer": "ipython3",
   "version": "3.6.5"
  }
 },
 "nbformat": 4,
 "nbformat_minor": 2
}
